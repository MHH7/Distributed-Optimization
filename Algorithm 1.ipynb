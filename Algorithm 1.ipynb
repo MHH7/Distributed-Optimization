{
 "cells": [
  {
   "cell_type": "code",
   "execution_count": 2,
   "metadata": {},
   "outputs": [],
   "source": [
    "import math\n",
    "import numpy as np"
   ]
  },
  {
   "cell_type": "code",
   "execution_count": null,
   "metadata": {},
   "outputs": [],
   "source": [
    "#Setting the constants in a way that contstraints of Theorem 4.1 are satisfied\n",
    "#Here I defined f_i's to f_i(x) := x^2 + 3sin(x)^2 (which is a non-convex function that satisfies PL-Condition)\n",
    "\n",
    "#Value of the f_i at point x(w.r.t. defined f_i)\n",
    "def get_f(x, n):\n",
    "    f = np.zeros(n)\n",
    "    for i in range(n):\n",
    "        f[i] = x[i] ** 2 + 3 * math.sin(x[i]) ** 2\n",
    "    return f\n",
    "#Derivative of function at the point x(w.r.t. defined f_i)\n",
    "def drv(x, n):\n",
    "    grd = np.zeros(n)\n",
    "    for i in range(n):\n",
    "        grd[i] = 2 * x[i] + 3 * math.sin(2 * x[i])\n",
    "    return grd"
   ]
  },
  {
   "cell_type": "code",
   "execution_count": 3,
   "metadata": {},
   "outputs": [],
   "source": [
    "mu = 1 / 32 #Lower bound constant related to PL-Condition(w.r.t. defined f_i)\n",
    "L = 3.67067936 #Upper bound constant related to Lipschitz Gradient Condition(w.r.t defined f_i)(foud this constant experimentally)\n",
    "etta = 1 / (2 * L * math.sqrt(L)) #Learning rate of the GD-Algorithm\n",
    "D = 1557 #Problem dimension(same as the one used in the paper), options: 1557, 6217, 24849\n",
    "K = 5 #Number of agents(same as the one used in the paper)\n",
    "C = max(math.sqrt(16 * L / (mu ** 2) + L * math.sqrt(L)) / mu, 100) #Constant related to Algorithm 1(same as the one used in Theorem 4.1)\n",
    "b = 64 #Number of bits to represent each entry\n",
    "\n",
    "#Amount of effect each agent's estimation takes from other agents estimation of minimizer at time t\n",
    "def gamma(t):\n",
    "    return 1 / t\n",
    "\n",
    "theta_Main = np.zeros(D) #Main estimation of the minimizer\n",
    "theta = np.zeros((D, K)) #Each Agent's estimation of the minimizer\n",
    "g = np.zeros((D, K)) #Compressed gradient of each agent's value at the estimated point\n",
    "q = np.zeros((D, K)) #Quantized value for each agent's estimation of minimizer"
   ]
  },
  {
   "cell_type": "code",
   "execution_count": null,
   "metadata": {},
   "outputs": [],
   "source": [
    "#Quantization, Compression and Decompression\n",
    "\n",
    "#Compression function(same as the one used in Theorem 4.1)\n",
    "def F_Compressor(x):\n",
    "    return x\n",
    "\n",
    "#Decompression function(same as the one used in Theorem 4.1)\n",
    "def F_tilde_Decompressor(x):\n",
    "    return x\n",
    "\n",
    "#Quantization distance unit\n",
    "def delta(r, b):\n",
    "    return r / (2 ** b - 1)\n",
    "\n",
    "def quant(c, p, r, j, n):\n",
    "    for i in range(n):\n",
    "        if p[i] <= c[i] - r + delta(r, b):\n",
    "            p[i] = p[i] - r\n",
    "        elif p[i] >= c[i] + r - delta(r, b):\n",
    "            p[i] = p[i] + r\n",
    "        else:\n",
    "            p[i] = p[i] - r + 2 * delta(r, b) * math.floor((c[i] - p[i] + r + delta(r, b)) / 2 * delta(r, b))\n",
    "    return p"
   ]
  },
  {
   "cell_type": "code",
   "execution_count": null,
   "metadata": {},
   "outputs": [],
   "source": [
    "#Main part of the Algorithm\n",
    "\n",
    "for t in range(1000):\n",
    "    #Performing each agent's work\n",
    "    for i in range(K):\n",
    "        sum = np.zeros(K) #Sum of the q_j's\n",
    "        for j in range(K):\n",
    "            sum = sum + q[i]\n",
    "        theta[i] = theta_Main - etta * F_tilde_Decompressor(sum) #Update\n",
    "        theta_Main = theta[i] #Update\n",
    "        q[i] = quant(F_Compressor(drv(theta_Main, D)), q[i], gamma(t), b, D) #Quantize\n",
    "\n",
    "print(theta_Main, get_f(theta_Main))"
   ]
  }
 ],
 "metadata": {
  "kernelspec": {
   "display_name": "Python 3",
   "language": "python",
   "name": "python3"
  },
  "language_info": {
   "codemirror_mode": {
    "name": "ipython",
    "version": 3
   },
   "file_extension": ".py",
   "mimetype": "text/x-python",
   "name": "python",
   "nbconvert_exporter": "python",
   "pygments_lexer": "ipython3",
   "version": "3.8.5"
  },
  "orig_nbformat": 4
 },
 "nbformat": 4,
 "nbformat_minor": 2
}
